{
 "cells": [
  {
   "cell_type": "markdown",
   "metadata": {},
   "source": [
    "Preliminaries"
   ]
  },
  {
   "cell_type": "code",
   "execution_count": 31,
   "metadata": {},
   "outputs": [],
   "source": [
    "# Load necessary libraries\n",
    "import pandas as pd\n",
    "import numpy as np\n",
    "import matplotlib.pyplot as plt\n",
    "import seaborn as sns\n",
    "from sklearn.model_selection import train_test_split\n",
    "from sklearn.preprocessing import StandardScaler, OneHotEncoder\n",
    "from sklearn.impute import SimpleImputer\n",
    "from sklearn.compose import ColumnTransformer\n",
    "from sklearn.pipeline import Pipeline\n",
    "from sklearn.feature_selection import RFE\n",
    "from sklearn.linear_model import LinearRegression\n",
    "from sklearn.metrics import mean_absolute_error\n",
    "import time\n",
    "\n",
    "# Load the complete dataset\n",
    "complete_df = pd.read_csv('../data/AmesHousing.csv')"
   ]
  },
  {
   "cell_type": "markdown",
   "metadata": {},
   "source": [
    "Baseline Simple Linear Regression Model"
   ]
  },
  {
   "cell_type": "code",
   "execution_count": 32,
   "metadata": {},
   "outputs": [
    {
     "name": "stdout",
     "output_type": "stream",
     "text": [
      "Regression Model: SalePrice = 77.65197995329426 * TotalLivingArea + -16644.751763414562\n",
      "Mean Absolute Error: 30374.087407408875\n",
      "Training Time: 0.002084493637084961 seconds\n"
     ]
    }
   ],
   "source": [
    "# Create a new independent variable for total living area\n",
    "complete_df['TotalLivingArea'] = complete_df['Gr Liv Area'] + complete_df['Total Bsmt SF'].fillna(0)\n",
    "\n",
    "# Split the dataset into a testing dataset and a training dataset\n",
    "x = complete_df[['TotalLivingArea']]\n",
    "y = complete_df['SalePrice']\n",
    "x_train, x_test, y_train, y_test = train_test_split(x, y, test_size=0.2, random_state=123)\n",
    "\n",
    "# Build the model and measure the training time\n",
    "model = LinearRegression()\n",
    "start_time = time.time()\n",
    "model.fit(x_train, y_train)\n",
    "end_time = time.time()\n",
    "training_time = end_time - start_time\n",
    "\n",
    "# Make predictions, evaluate accuracy of the model, and print the results\n",
    "y_pred = model.predict(x_test)\n",
    "\n",
    "mae = mean_absolute_error(y_test, y_pred)\n",
    "print(f\"Regression Model: SalePrice = {model.coef_[0]} * TotalLivingArea + {model.intercept_}\")\n",
    "print(f\"Mean Absolute Error: {mae}\")\n",
    "print(f\"Training Time: {training_time} seconds\")\n",
    "\n",
    "# Create scatterplots for training and testing data\n",
    "\n",
    "\n",
    "# Compute baseline model accuracy based on mean absolute deviation\n"
   ]
  }
 ],
 "metadata": {
  "kernelspec": {
   "display_name": "Python 3",
   "language": "python",
   "name": "python3"
  },
  "language_info": {
   "codemirror_mode": {
    "name": "ipython",
    "version": 3
   },
   "file_extension": ".py",
   "mimetype": "text/x-python",
   "name": "python",
   "nbconvert_exporter": "python",
   "pygments_lexer": "ipython3",
   "version": "3.8.19"
  }
 },
 "nbformat": 4,
 "nbformat_minor": 2
}
